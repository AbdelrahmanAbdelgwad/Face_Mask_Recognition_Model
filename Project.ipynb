{
 "cells": [
  {
   "cell_type": "markdown",
   "id": "dbc39b4f",
   "metadata": {},
   "source": [
    "# Import Libraries"
   ]
  },
  {
   "cell_type": "code",
   "execution_count": 1,
   "id": "cf368cf9",
   "metadata": {},
   "outputs": [],
   "source": [
    "import tensorflow as tf\n",
    "from tensorflow.keras.models import Sequential\n",
    "from tensorflow.keras.layers import Dense, Conv2D, MaxPooling2D, Flatten\n",
    "from tensorflow.keras.models import Model\n",
    "import matplotlib.pyplot as plt"
   ]
  },
  {
   "cell_type": "markdown",
   "id": "727e654d",
   "metadata": {},
   "source": [
    "# Prepare Datasets"
   ]
  },
  {
   "cell_type": "code",
   "execution_count": 2,
   "id": "12a6b749",
   "metadata": {},
   "outputs": [
    {
     "name": "stdout",
     "output_type": "stream",
     "text": [
      "Found 992 files belonging to 2 classes.\n",
      "Found 10000 files belonging to 2 classes.\n",
      "Found 800 files belonging to 2 classes.\n"
     ]
    }
   ],
   "source": [
    "directory = \"./Face_Mask_Dataset/\"\n",
    "test_ds = tf.keras.preprocessing.image_dataset_from_directory(\n",
    "    directory+\"Test\",\n",
    "    labels=\"inferred\",\n",
    "    label_mode=\"categorical\",\n",
    "    color_mode=\"rgb\",\n",
    "    batch_size=32,\n",
    "    image_size=(250, 250),\n",
    "    shuffle=True,\n",
    ")\n",
    "\n",
    "train_ds = tf.keras.preprocessing.image_dataset_from_directory(\n",
    "    directory+\"Train\",\n",
    "    labels=\"inferred\",\n",
    "    label_mode=\"categorical\",\n",
    "    color_mode=\"rgb\",\n",
    "    batch_size=32,\n",
    "    image_size=(250, 250),\n",
    "    shuffle=True,\n",
    ")\n",
    "val_ds = tf.keras.preprocessing.image_dataset_from_directory(\n",
    "    directory+\"Validation\",\n",
    "    labels=\"inferred\",\n",
    "    label_mode=\"categorical\",\n",
    "    color_mode=\"rgb\",\n",
    "    batch_size=32,\n",
    "    image_size=(250, 250),\n",
    "    shuffle=True,\n",
    ")"
   ]
  },
  {
   "cell_type": "markdown",
   "id": "d4421d69",
   "metadata": {},
   "source": [
    "# Build model\n",
    "## Conv\n",
    "\n",
    "    "
   ]
  },
  {
   "cell_type": "code",
   "execution_count": 3,
   "id": "ad373c5a",
   "metadata": {},
   "outputs": [],
   "source": [
    "model = Sequential()\n",
    "model.add(Conv2D(32, (3, 3), activation='relu', input_shape=(250, 250, 3)))\n",
    "model.add(MaxPooling2D((2, 2)))\n",
    "model.add(Conv2D(64, (3, 3), activation='relu'))\n",
    "model.add(MaxPooling2D((2, 2)))\n",
    "model.add(Conv2D(64, (3, 3), activation='relu'))"
   ]
  },
  {
   "cell_type": "code",
   "execution_count": 4,
   "id": "94b51e68",
   "metadata": {},
   "outputs": [
    {
     "name": "stdout",
     "output_type": "stream",
     "text": [
      "Model: \"sequential\"\n",
      "_________________________________________________________________\n",
      " Layer (type)                Output Shape              Param #   \n",
      "=================================================================\n",
      " conv2d (Conv2D)             (None, 248, 248, 32)      896       \n",
      "                                                                 \n",
      " max_pooling2d (MaxPooling2D  (None, 124, 124, 32)     0         \n",
      " )                                                               \n",
      "                                                                 \n",
      " conv2d_1 (Conv2D)           (None, 122, 122, 64)      18496     \n",
      "                                                                 \n",
      " max_pooling2d_1 (MaxPooling  (None, 61, 61, 64)       0         \n",
      " 2D)                                                             \n",
      "                                                                 \n",
      " conv2d_2 (Conv2D)           (None, 59, 59, 64)        36928     \n",
      "                                                                 \n",
      "=================================================================\n",
      "Total params: 56,320\n",
      "Trainable params: 56,320\n",
      "Non-trainable params: 0\n",
      "_________________________________________________________________\n"
     ]
    }
   ],
   "source": [
    "model.summary()"
   ]
  },
  {
   "cell_type": "markdown",
   "id": "555fa106",
   "metadata": {},
   "source": [
    "## Dense"
   ]
  },
  {
   "cell_type": "code",
   "execution_count": 5,
   "id": "a86837fb",
   "metadata": {},
   "outputs": [],
   "source": [
    "model.add(Flatten())\n",
    "model.add(Dense(64, activation='relu'))\n",
    "model.add(Dense(32, activation='relu'))\n",
    "model.add(Dense(16, activation='relu'))\n",
    "model.add(Dense(2, activation='softmax'))"
   ]
  },
  {
   "cell_type": "code",
   "execution_count": 6,
   "id": "d5def52b",
   "metadata": {},
   "outputs": [
    {
     "name": "stdout",
     "output_type": "stream",
     "text": [
      "Model: \"sequential\"\n",
      "_________________________________________________________________\n",
      " Layer (type)                Output Shape              Param #   \n",
      "=================================================================\n",
      " conv2d (Conv2D)             (None, 248, 248, 32)      896       \n",
      "                                                                 \n",
      " max_pooling2d (MaxPooling2D  (None, 124, 124, 32)     0         \n",
      " )                                                               \n",
      "                                                                 \n",
      " conv2d_1 (Conv2D)           (None, 122, 122, 64)      18496     \n",
      "                                                                 \n",
      " max_pooling2d_1 (MaxPooling  (None, 61, 61, 64)       0         \n",
      " 2D)                                                             \n",
      "                                                                 \n",
      " conv2d_2 (Conv2D)           (None, 59, 59, 64)        36928     \n",
      "                                                                 \n",
      " flatten (Flatten)           (None, 222784)            0         \n",
      "                                                                 \n",
      " dense (Dense)               (None, 64)                14258240  \n",
      "                                                                 \n",
      " dense_1 (Dense)             (None, 32)                2080      \n",
      "                                                                 \n",
      " dense_2 (Dense)             (None, 16)                528       \n",
      "                                                                 \n",
      " dense_3 (Dense)             (None, 2)                 34        \n",
      "                                                                 \n",
      "=================================================================\n",
      "Total params: 14,317,202\n",
      "Trainable params: 14,317,202\n",
      "Non-trainable params: 0\n",
      "_________________________________________________________________\n"
     ]
    }
   ],
   "source": [
    "model.summary()"
   ]
  },
  {
   "cell_type": "markdown",
   "id": "dc32aed6",
   "metadata": {},
   "source": [
    "# Train Model"
   ]
  },
  {
   "cell_type": "code",
   "execution_count": 7,
   "id": "b3a90989",
   "metadata": {},
   "outputs": [
    {
     "name": "stdout",
     "output_type": "stream",
     "text": [
      "Epoch 1/100\n",
      "313/313 [==============================] - 315s 1s/step - loss: 4.1935 - accuracy: 0.9114 - val_loss: 0.1746 - val_accuracy: 0.9488\n",
      "Epoch 2/100\n",
      "313/313 [==============================] - 311s 994ms/step - loss: 0.1088 - accuracy: 0.9629 - val_loss: 0.0913 - val_accuracy: 0.9750\n",
      "Epoch 3/100\n",
      "313/313 [==============================] - 313s 1s/step - loss: 0.7069 - accuracy: 0.7822 - val_loss: 0.5982 - val_accuracy: 0.6975\n",
      "Epoch 4/100\n",
      "313/313 [==============================] - 301s 962ms/step - loss: 0.5732 - accuracy: 0.7277 - val_loss: 0.5728 - val_accuracy: 0.7538\n",
      "Epoch 5/100\n",
      "313/313 [==============================] - 306s 977ms/step - loss: 0.4792 - accuracy: 0.8050 - val_loss: 0.4937 - val_accuracy: 0.7900\n",
      "Epoch 6/100\n",
      "313/313 [==============================] - 299s 954ms/step - loss: 0.3598 - accuracy: 0.8473 - val_loss: 0.3484 - val_accuracy: 0.8775\n",
      "Epoch 7/100\n",
      "313/313 [==============================] - 299s 954ms/step - loss: 0.4067 - accuracy: 0.8321 - val_loss: 0.4893 - val_accuracy: 0.7975\n",
      "Epoch 8/100\n",
      "313/313 [==============================] - 298s 951ms/step - loss: 0.1323 - accuracy: 0.9542 - val_loss: 0.1398 - val_accuracy: 0.9475\n",
      "Epoch 9/100\n",
      "313/313 [==============================] - 301s 960ms/step - loss: 0.0591 - accuracy: 0.9792 - val_loss: 0.1135 - val_accuracy: 0.9688\n",
      "Epoch 10/100\n",
      "313/313 [==============================] - 298s 951ms/step - loss: 0.0367 - accuracy: 0.9867 - val_loss: 0.1813 - val_accuracy: 0.9488\n",
      "Epoch 11/100\n",
      "313/313 [==============================] - 303s 967ms/step - loss: 0.0332 - accuracy: 0.9891 - val_loss: 0.1979 - val_accuracy: 0.9475\n",
      "Epoch 12/100\n",
      "313/313 [==============================] - 299s 954ms/step - loss: 0.0135 - accuracy: 0.9959 - val_loss: 0.1776 - val_accuracy: 0.9688\n",
      "Epoch 13/100\n",
      "313/313 [==============================] - 307s 981ms/step - loss: 0.0053 - accuracy: 0.9983 - val_loss: 0.1873 - val_accuracy: 0.9688\n",
      "Epoch 14/100\n",
      "313/313 [==============================] - 299s 955ms/step - loss: 0.0026 - accuracy: 0.9990 - val_loss: 0.2097 - val_accuracy: 0.9725\n",
      "Epoch 15/100\n",
      "313/313 [==============================] - 301s 963ms/step - loss: 0.0126 - accuracy: 0.9958 - val_loss: 0.2393 - val_accuracy: 0.9638\n",
      "Epoch 16/100\n",
      "313/313 [==============================] - 302s 963ms/step - loss: 0.4595 - accuracy: 0.7917 - val_loss: 0.5212 - val_accuracy: 0.7862\n",
      "Epoch 17/100\n",
      "313/313 [==============================] - 296s 944ms/step - loss: 0.3948 - accuracy: 0.8359 - val_loss: 0.4057 - val_accuracy: 0.8675\n",
      "Epoch 18/100\n",
      "313/313 [==============================] - 301s 961ms/step - loss: 0.3816 - accuracy: 0.8348 - val_loss: 0.5036 - val_accuracy: 0.8012\n",
      "Epoch 19/100\n",
      "313/313 [==============================] - 303s 968ms/step - loss: 0.2987 - accuracy: 0.8748 - val_loss: 0.3405 - val_accuracy: 0.8712\n",
      "Epoch 20/100\n",
      "313/313 [==============================] - 301s 961ms/step - loss: 0.2167 - accuracy: 0.9237 - val_loss: 0.3711 - val_accuracy: 0.8637\n",
      "Epoch 21/100\n",
      "313/313 [==============================] - 315s 1s/step - loss: 0.1388 - accuracy: 0.9497 - val_loss: 0.2013 - val_accuracy: 0.9588\n",
      "Epoch 22/100\n",
      "313/313 [==============================] - 311s 992ms/step - loss: 0.0587 - accuracy: 0.9793 - val_loss: 0.1470 - val_accuracy: 0.9700\n",
      "Epoch 23/100\n",
      "313/313 [==============================] - 308s 984ms/step - loss: 0.1340 - accuracy: 0.9595 - val_loss: 0.2189 - val_accuracy: 0.9425\n",
      "Epoch 24/100\n",
      "313/313 [==============================] - 315s 1s/step - loss: 0.0603 - accuracy: 0.9781 - val_loss: 0.1415 - val_accuracy: 0.9688\n",
      "Epoch 25/100\n",
      "313/313 [==============================] - 298s 952ms/step - loss: 0.0373 - accuracy: 0.9864 - val_loss: 0.2421 - val_accuracy: 0.9475\n",
      "Epoch 26/100\n",
      "313/313 [==============================] - 308s 985ms/step - loss: 0.0334 - accuracy: 0.9876 - val_loss: 0.2498 - val_accuracy: 0.9688\n",
      "Epoch 27/100\n",
      "313/313 [==============================] - 299s 955ms/step - loss: 0.0379 - accuracy: 0.9884 - val_loss: 0.1316 - val_accuracy: 0.9688\n",
      "Epoch 28/100\n",
      "313/313 [==============================] - 303s 966ms/step - loss: 0.0280 - accuracy: 0.9924 - val_loss: 0.1465 - val_accuracy: 0.9737\n",
      "Epoch 29/100\n",
      "313/313 [==============================] - 300s 958ms/step - loss: 0.0096 - accuracy: 0.9966 - val_loss: 0.1431 - val_accuracy: 0.9762\n",
      "Epoch 30/100\n",
      "313/313 [==============================] - 305s 975ms/step - loss: 0.0112 - accuracy: 0.9968 - val_loss: 0.1590 - val_accuracy: 0.9625\n",
      "Epoch 31/100\n",
      "313/313 [==============================] - 299s 954ms/step - loss: 0.0544 - accuracy: 0.9838 - val_loss: 0.1573 - val_accuracy: 0.9712\n",
      "Epoch 32/100\n",
      "313/313 [==============================] - 294s 939ms/step - loss: 0.0092 - accuracy: 0.9971 - val_loss: 0.0998 - val_accuracy: 0.9800\n",
      "Epoch 33/100\n",
      "313/313 [==============================] - 295s 942ms/step - loss: 0.0026 - accuracy: 0.9991 - val_loss: 0.1006 - val_accuracy: 0.9825\n",
      "Epoch 34/100\n",
      "313/313 [==============================] - 306s 974ms/step - loss: 0.0011 - accuracy: 0.9997 - val_loss: 0.1317 - val_accuracy: 0.9787\n",
      "Epoch 35/100\n",
      "313/313 [==============================] - 310s 991ms/step - loss: 6.5393e-04 - accuracy: 0.9998 - val_loss: 0.1478 - val_accuracy: 0.9800\n",
      "Epoch 36/100\n",
      "313/313 [==============================] - 300s 957ms/step - loss: 4.6037e-04 - accuracy: 0.9999 - val_loss: 0.1571 - val_accuracy: 0.9800\n",
      "Epoch 37/100\n",
      "313/313 [==============================] - 300s 957ms/step - loss: 4.3323e-04 - accuracy: 0.9999 - val_loss: 0.1701 - val_accuracy: 0.9837\n",
      "Epoch 38/100\n",
      "313/313 [==============================] - 292s 934ms/step - loss: 3.2602e-04 - accuracy: 0.9999 - val_loss: 0.1890 - val_accuracy: 0.9837\n",
      "Epoch 39/100\n",
      "313/313 [==============================] - 304s 970ms/step - loss: 2.8829e-04 - accuracy: 0.9999 - val_loss: 0.2039 - val_accuracy: 0.9837\n",
      "Epoch 40/100\n",
      "313/313 [==============================] - 300s 959ms/step - loss: 2.6193e-04 - accuracy: 0.9999 - val_loss: 0.2108 - val_accuracy: 0.9837\n",
      "Epoch 41/100\n",
      "313/313 [==============================] - 314s 1s/step - loss: 2.4580e-04 - accuracy: 0.9999 - val_loss: 0.2165 - val_accuracy: 0.9837\n",
      "Epoch 42/100\n",
      "313/313 [==============================] - 302s 965ms/step - loss: 2.3695e-04 - accuracy: 0.9999 - val_loss: 0.2220 - val_accuracy: 0.9837\n",
      "Epoch 43/100\n",
      "313/313 [==============================] - 304s 972ms/step - loss: 2.2989e-04 - accuracy: 0.9999 - val_loss: 0.2305 - val_accuracy: 0.9837\n",
      "Epoch 44/100\n",
      "313/313 [==============================] - 305s 975ms/step - loss: 2.2512e-04 - accuracy: 0.9999 - val_loss: 0.2413 - val_accuracy: 0.9837\n",
      "Epoch 45/100\n",
      "313/313 [==============================] - 303s 968ms/step - loss: 2.2440e-04 - accuracy: 0.9999 - val_loss: 0.2373 - val_accuracy: 0.9862\n",
      "Epoch 46/100\n",
      "313/313 [==============================] - 309s 986ms/step - loss: 2.2276e-04 - accuracy: 0.9999 - val_loss: 0.2665 - val_accuracy: 0.9837\n",
      "Epoch 47/100\n",
      "313/313 [==============================] - 306s 977ms/step - loss: 2.2041e-04 - accuracy: 0.9999 - val_loss: 0.2737 - val_accuracy: 0.9837\n",
      "Epoch 48/100\n",
      "313/313 [==============================] - 294s 939ms/step - loss: 2.1558e-04 - accuracy: 0.9999 - val_loss: 0.2842 - val_accuracy: 0.9837\n",
      "Epoch 49/100\n",
      "313/313 [==============================] - 307s 981ms/step - loss: 2.1415e-04 - accuracy: 0.9999 - val_loss: 0.2888 - val_accuracy: 0.9837\n",
      "Epoch 50/100\n",
      "313/313 [==============================] - 301s 961ms/step - loss: 0.2803 - accuracy: 0.8816 - val_loss: 1.0643 - val_accuracy: 0.7025\n",
      "Epoch 51/100\n",
      "313/313 [==============================] - 316s 1s/step - loss: 0.4478 - accuracy: 0.8083 - val_loss: 0.5430 - val_accuracy: 0.7937\n",
      "Epoch 52/100\n",
      "313/313 [==============================] - 297s 948ms/step - loss: 0.3175 - accuracy: 0.8594 - val_loss: 0.5731 - val_accuracy: 0.8325\n",
      "Epoch 53/100\n",
      "313/313 [==============================] - 294s 938ms/step - loss: 0.2146 - accuracy: 0.9156 - val_loss: 0.1909 - val_accuracy: 0.9550\n",
      "Epoch 54/100\n",
      "313/313 [==============================] - 308s 982ms/step - loss: 0.0779 - accuracy: 0.9703 - val_loss: 0.1866 - val_accuracy: 0.9688\n",
      "Epoch 55/100\n",
      "313/313 [==============================] - 303s 969ms/step - loss: 0.0234 - accuracy: 0.9917 - val_loss: 0.1856 - val_accuracy: 0.9688\n",
      "Epoch 56/100\n"
     ]
    },
    {
     "name": "stdout",
     "output_type": "stream",
     "text": [
      "313/313 [==============================] - 302s 965ms/step - loss: 0.0206 - accuracy: 0.9941 - val_loss: 0.1415 - val_accuracy: 0.9737\n",
      "Epoch 57/100\n",
      "313/313 [==============================] - 302s 965ms/step - loss: 0.0262 - accuracy: 0.9904 - val_loss: 0.1562 - val_accuracy: 0.9700\n",
      "Epoch 58/100\n",
      "313/313 [==============================] - 303s 967ms/step - loss: 0.0137 - accuracy: 0.9947 - val_loss: 0.1714 - val_accuracy: 0.9787\n",
      "Epoch 59/100\n",
      "313/313 [==============================] - 303s 968ms/step - loss: 0.0060 - accuracy: 0.9964 - val_loss: 0.1939 - val_accuracy: 0.9762\n",
      "Epoch 60/100\n",
      "313/313 [==============================] - 301s 963ms/step - loss: 0.0313 - accuracy: 0.9934 - val_loss: 0.1093 - val_accuracy: 0.9688\n",
      "Epoch 61/100\n",
      "313/313 [==============================] - 303s 968ms/step - loss: 0.0390 - accuracy: 0.9867 - val_loss: 0.1180 - val_accuracy: 0.9700\n",
      "Epoch 62/100\n",
      "313/313 [==============================] - 310s 991ms/step - loss: 0.0060 - accuracy: 0.9979 - val_loss: 0.2092 - val_accuracy: 0.9800\n",
      "Epoch 63/100\n",
      "313/313 [==============================] - 300s 957ms/step - loss: 0.0076 - accuracy: 0.9974 - val_loss: 0.2257 - val_accuracy: 0.9750\n",
      "Epoch 64/100\n",
      "313/313 [==============================] - 301s 963ms/step - loss: 0.0060 - accuracy: 0.9976 - val_loss: 0.2166 - val_accuracy: 0.9663\n",
      "Epoch 65/100\n",
      "313/313 [==============================] - 306s 977ms/step - loss: 0.0352 - accuracy: 0.9907 - val_loss: 0.1623 - val_accuracy: 0.9737\n",
      "Epoch 66/100\n",
      "313/313 [==============================] - 304s 973ms/step - loss: 0.0178 - accuracy: 0.9939 - val_loss: 0.1429 - val_accuracy: 0.9812\n",
      "Epoch 67/100\n",
      "313/313 [==============================] - 293s 935ms/step - loss: 0.0015 - accuracy: 0.9997 - val_loss: 0.2571 - val_accuracy: 0.9750\n",
      "Epoch 68/100\n",
      "313/313 [==============================] - 300s 960ms/step - loss: 4.9100e-04 - accuracy: 0.9999 - val_loss: 0.2957 - val_accuracy: 0.9812\n",
      "Epoch 69/100\n",
      "313/313 [==============================] - 313s 1s/step - loss: 0.0012 - accuracy: 0.9998 - val_loss: 0.2610 - val_accuracy: 0.9787\n",
      "Epoch 70/100\n",
      "313/313 [==============================] - 318s 1s/step - loss: 0.0407 - accuracy: 0.9842 - val_loss: 0.2967 - val_accuracy: 0.9563\n",
      "Epoch 71/100\n",
      "313/313 [==============================] - 313s 999ms/step - loss: 0.0086 - accuracy: 0.9940 - val_loss: 0.2492 - val_accuracy: 0.9750\n",
      "Epoch 72/100\n",
      "313/313 [==============================] - 307s 981ms/step - loss: 0.0048 - accuracy: 0.9984 - val_loss: 0.3656 - val_accuracy: 0.9800\n",
      "Epoch 73/100\n",
      "313/313 [==============================] - 319s 1s/step - loss: 0.0011 - accuracy: 0.9997 - val_loss: 0.4942 - val_accuracy: 0.9775\n",
      "Epoch 74/100\n",
      "313/313 [==============================] - 327s 1s/step - loss: 0.0016 - accuracy: 0.9997 - val_loss: 0.6698 - val_accuracy: 0.9725\n",
      "Epoch 75/100\n",
      "313/313 [==============================] - 332s 1s/step - loss: 8.7066e-04 - accuracy: 0.9994 - val_loss: 1.0560 - val_accuracy: 0.9725\n",
      "Epoch 76/100\n",
      "313/313 [==============================] - 349s 1s/step - loss: 3.5349e-04 - accuracy: 0.9997 - val_loss: 1.0629 - val_accuracy: 0.9750\n",
      "Epoch 77/100\n",
      "313/313 [==============================] - 341s 1s/step - loss: 1.7552e-04 - accuracy: 0.9998 - val_loss: 1.0906 - val_accuracy: 0.9775\n",
      "Epoch 78/100\n",
      "313/313 [==============================] - 335s 1s/step - loss: 1.6622e-04 - accuracy: 1.0000 - val_loss: 1.0977 - val_accuracy: 0.9775\n",
      "Epoch 79/100\n",
      "313/313 [==============================] - 316s 1s/step - loss: 1.6137e-04 - accuracy: 1.0000 - val_loss: 1.1028 - val_accuracy: 0.9775\n",
      "Epoch 80/100\n",
      "313/313 [==============================] - 324s 1s/step - loss: 1.5716e-04 - accuracy: 1.0000 - val_loss: 1.1080 - val_accuracy: 0.9775\n",
      "Epoch 81/100\n",
      "313/313 [==============================] - 335s 1s/step - loss: 1.5285e-04 - accuracy: 1.0000 - val_loss: 1.1143 - val_accuracy: 0.9775\n",
      "Epoch 82/100\n",
      "313/313 [==============================] - 312s 996ms/step - loss: 1.4883e-04 - accuracy: 1.0000 - val_loss: 1.1205 - val_accuracy: 0.9775\n",
      "Epoch 83/100\n",
      "313/313 [==============================] - 306s 978ms/step - loss: 1.4486e-04 - accuracy: 1.0000 - val_loss: 1.1272 - val_accuracy: 0.9775\n",
      "Epoch 84/100\n",
      "313/313 [==============================] - 301s 963ms/step - loss: 1.4072e-04 - accuracy: 1.0000 - val_loss: 1.1345 - val_accuracy: 0.9775\n",
      "Epoch 85/100\n",
      "313/313 [==============================] - 305s 974ms/step - loss: 1.3666e-04 - accuracy: 1.0000 - val_loss: 1.1496 - val_accuracy: 0.9775\n",
      "Epoch 86/100\n",
      "313/313 [==============================] - 306s 978ms/step - loss: 1.3211e-04 - accuracy: 1.0000 - val_loss: 1.1599 - val_accuracy: 0.9775\n",
      "Epoch 87/100\n",
      "313/313 [==============================] - 302s 966ms/step - loss: 1.2767e-04 - accuracy: 1.0000 - val_loss: 1.1760 - val_accuracy: 0.9775\n",
      "Epoch 88/100\n",
      "313/313 [==============================] - 308s 981ms/step - loss: 1.2321e-04 - accuracy: 1.0000 - val_loss: 1.1899 - val_accuracy: 0.9775\n",
      "Epoch 89/100\n",
      "313/313 [==============================] - 304s 972ms/step - loss: 1.1883e-04 - accuracy: 1.0000 - val_loss: 1.2128 - val_accuracy: 0.9775\n",
      "Epoch 90/100\n",
      "313/313 [==============================] - 339s 1s/step - loss: 1.1444e-04 - accuracy: 1.0000 - val_loss: 1.2044 - val_accuracy: 0.9775\n",
      "Epoch 91/100\n",
      "313/313 [==============================] - 315s 1s/step - loss: 1.1025e-04 - accuracy: 1.0000 - val_loss: 1.2137 - val_accuracy: 0.9775\n",
      "Epoch 92/100\n",
      "313/313 [==============================] - 337s 1s/step - loss: 1.0631e-04 - accuracy: 1.0000 - val_loss: 1.2484 - val_accuracy: 0.9775\n",
      "Epoch 93/100\n",
      "313/313 [==============================] - 358s 1s/step - loss: 1.0207e-04 - accuracy: 1.0000 - val_loss: 1.2665 - val_accuracy: 0.9775\n",
      "Epoch 94/100\n",
      "313/313 [==============================] - 1438s 5s/step - loss: 9.8196e-05 - accuracy: 1.0000 - val_loss: 1.2846 - val_accuracy: 0.9775\n",
      "Epoch 95/100\n",
      "313/313 [==============================] - 346s 1s/step - loss: 9.4466e-05 - accuracy: 1.0000 - val_loss: 1.3061 - val_accuracy: 0.9775\n",
      "Epoch 96/100\n",
      "313/313 [==============================] - 321s 1s/step - loss: 9.0869e-05 - accuracy: 1.0000 - val_loss: 1.3246 - val_accuracy: 0.9775\n",
      "Epoch 97/100\n",
      "313/313 [==============================] - 329s 1s/step - loss: 8.7431e-05 - accuracy: 1.0000 - val_loss: 1.3454 - val_accuracy: 0.9775\n",
      "Epoch 98/100\n",
      "313/313 [==============================] - 314s 1s/step - loss: 2.4629e-04 - accuracy: 1.0000 - val_loss: 1.2264 - val_accuracy: 0.9787\n",
      "Epoch 99/100\n",
      "313/313 [==============================] - 312s 996ms/step - loss: 1.5474e-06 - accuracy: 1.0000 - val_loss: 1.3210 - val_accuracy: 0.9775\n",
      "Epoch 100/100\n",
      "313/313 [==============================] - 321s 1s/step - loss: 9.6272e-07 - accuracy: 1.0000 - val_loss: 1.3293 - val_accuracy: 0.9775\n"
     ]
    }
   ],
   "source": [
    "model.compile(optimizer='adam',\n",
    "              loss=\"categorical_crossentropy\",\n",
    "              metrics=['accuracy'])\n",
    "\n",
    "history = model.fit(train_ds, epochs=100, \n",
    "                    validation_data=val_ds)"
   ]
  },
  {
   "cell_type": "code",
   "execution_count": 8,
   "id": "ab884512",
   "metadata": {},
   "outputs": [
    {
     "data": {
      "image/png": "[encoded data removed]",
      "text/plain": [
       "<Figure size 432x288 with 1 Axes>"
      ]
     },
     "metadata": {
      "needs_background": "light"
     },
     "output_type": "display_data"
    }
   ],
   "source": [
    "#loss value vs epochs graph\n",
    "plt.plot(history.history['loss'])\n",
    "plt.plot(history.history['val_loss'])\n",
    "plt.title('face mask - loss')\n",
    "plt.ylabel('loss')\n",
    "plt.xlabel('epoch')\n",
    "plt.legend(['train', 'test'], loc='upper left')\n",
    "plt.show()"
   ]
  },
  {
   "cell_type": "code",
   "execution_count": 9,
   "id": "c92f260c",
   "metadata": {},
   "outputs": [
    {
     "data": {
      "image/png": "[encoded data removed]",
      "text/plain": [
       "<Figure size 432x288 with 1 Axes>"
      ]
     },
     "metadata": {
      "needs_background": "light"
     },
     "output_type": "display_data"
    }
   ],
   "source": [
    "# accuracy vs epochs graph \n",
    "plt.plot(history.history['accuracy'])\n",
    "plt.plot(history.history['val_accuracy'])\n",
    "plt.title('face mask - accuracy')\n",
    "plt.ylabel('accuracy')\n",
    "plt.xlabel('epoch')\n",
    "plt.legend(['train', 'test'], loc='upper left')\n",
    "plt.show()\n",
    "#according to both of them, the model is neither underfitting nor overfitting "
   ]
  },
  {
   "cell_type": "code",
   "execution_count": null,
   "id": "d5a19162",
   "metadata": {},
   "outputs": [],
   "source": []
  },
  {
   "cell_type": "code",
   "execution_count": null,
   "id": "5d98fdd3",
   "metadata": {},
   "outputs": [],
   "source": []
  }
 ],
 "metadata": {
  "kernelspec": {
   "display_name": "Python 3 (ipykernel)",
   "language": "python",
   "name": "python3"
  },
  "language_info": {
   "codemirror_mode": {
    "name": "ipython",
    "version": 3
   },
   "file_extension": ".py",
   "mimetype": "text/x-python",
   "name": "python",
   "nbconvert_exporter": "python",
   "pygments_lexer": "ipython3",
   "version": "3.9.7"
  }
 },
 "nbformat": 4,
 "nbformat_minor": 5
}
